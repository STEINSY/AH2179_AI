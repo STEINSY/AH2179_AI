{
 "cells": [
  {
   "cell_type": "code",
   "execution_count": 1,
   "id": "2d7bc99c",
   "metadata": {},
   "outputs": [
    {
     "data": {
      "text/html": [
       "<div>\n",
       "<style scoped>\n",
       "    .dataframe tbody tr th:only-of-type {\n",
       "        vertical-align: middle;\n",
       "    }\n",
       "\n",
       "    .dataframe tbody tr th {\n",
       "        vertical-align: top;\n",
       "    }\n",
       "\n",
       "    .dataframe thead th {\n",
       "        text-align: right;\n",
       "    }\n",
       "</style>\n",
       "<table border=\"1\" class=\"dataframe\">\n",
       "  <thead>\n",
       "    <tr style=\"text-align: right;\">\n",
       "      <th></th>\n",
       "      <th>ago</th>\n",
       "      <th>brought</th>\n",
       "      <th>conceived</th>\n",
       "      <th>created</th>\n",
       "      <th>dedicated</th>\n",
       "      <th>equal</th>\n",
       "      <th>equals</th>\n",
       "      <th>fathers</th>\n",
       "      <th>forth</th>\n",
       "      <th>freedom</th>\n",
       "      <th>liberty</th>\n",
       "      <th>men</th>\n",
       "      <th>nation</th>\n",
       "      <th>new</th>\n",
       "      <th>proposition</th>\n",
       "      <th>score</th>\n",
       "      <th>years</th>\n",
       "    </tr>\n",
       "  </thead>\n",
       "  <tbody>\n",
       "    <tr>\n",
       "      <th>Line 1</th>\n",
       "      <td>1</td>\n",
       "      <td>1</td>\n",
       "      <td>0</td>\n",
       "      <td>0</td>\n",
       "      <td>0</td>\n",
       "      <td>0</td>\n",
       "      <td>0</td>\n",
       "      <td>1</td>\n",
       "      <td>1</td>\n",
       "      <td>0</td>\n",
       "      <td>0</td>\n",
       "      <td>0</td>\n",
       "      <td>0</td>\n",
       "      <td>0</td>\n",
       "      <td>0</td>\n",
       "      <td>1</td>\n",
       "      <td>1</td>\n",
       "    </tr>\n",
       "    <tr>\n",
       "      <th>Line 2</th>\n",
       "      <td>0</td>\n",
       "      <td>0</td>\n",
       "      <td>1</td>\n",
       "      <td>0</td>\n",
       "      <td>0</td>\n",
       "      <td>0</td>\n",
       "      <td>0</td>\n",
       "      <td>0</td>\n",
       "      <td>0</td>\n",
       "      <td>0</td>\n",
       "      <td>1</td>\n",
       "      <td>0</td>\n",
       "      <td>1</td>\n",
       "      <td>1</td>\n",
       "      <td>0</td>\n",
       "      <td>0</td>\n",
       "      <td>0</td>\n",
       "    </tr>\n",
       "    <tr>\n",
       "      <th>Line 3</th>\n",
       "      <td>0</td>\n",
       "      <td>0</td>\n",
       "      <td>0</td>\n",
       "      <td>1</td>\n",
       "      <td>1</td>\n",
       "      <td>1</td>\n",
       "      <td>0</td>\n",
       "      <td>0</td>\n",
       "      <td>0</td>\n",
       "      <td>0</td>\n",
       "      <td>0</td>\n",
       "      <td>1</td>\n",
       "      <td>0</td>\n",
       "      <td>0</td>\n",
       "      <td>1</td>\n",
       "      <td>0</td>\n",
       "      <td>0</td>\n",
       "    </tr>\n",
       "    <tr>\n",
       "      <th>Line 4</th>\n",
       "      <td>0</td>\n",
       "      <td>0</td>\n",
       "      <td>0</td>\n",
       "      <td>0</td>\n",
       "      <td>0</td>\n",
       "      <td>0</td>\n",
       "      <td>1</td>\n",
       "      <td>0</td>\n",
       "      <td>0</td>\n",
       "      <td>2</td>\n",
       "      <td>0</td>\n",
       "      <td>0</td>\n",
       "      <td>2</td>\n",
       "      <td>0</td>\n",
       "      <td>0</td>\n",
       "      <td>0</td>\n",
       "      <td>0</td>\n",
       "    </tr>\n",
       "  </tbody>\n",
       "</table>\n",
       "</div>"
      ],
      "text/plain": [
       "        ago  brought  conceived  created  dedicated  equal  equals  fathers  \\\n",
       "Line 1    1        1          0        0          0      0       0        1   \n",
       "Line 2    0        0          1        0          0      0       0        0   \n",
       "Line 3    0        0          0        1          1      1       0        0   \n",
       "Line 4    0        0          0        0          0      0       1        0   \n",
       "\n",
       "        forth  freedom  liberty  men  nation  new  proposition  score  years  \n",
       "Line 1      1        0        0    0       0    0            0      1      1  \n",
       "Line 2      0        0        1    0       1    1            0      0      0  \n",
       "Line 3      0        0        0    1       0    0            1      0      0  \n",
       "Line 4      0        2        0    0       2    0            0      0      0  "
      ]
     },
     "execution_count": 1,
     "metadata": {},
     "output_type": "execute_result"
    }
   ],
   "source": [
    "import pandas as pd\n",
    "from sklearn.feature_extraction.text import CountVectorizer\n",
    "\n",
    "# Define the text\n",
    "lines = [\n",
    "    'Four score and 7 years ago our fathers brought forth,',\n",
    "    '... a new NATION, conceived in liberty $$$,',\n",
    "    'and dedicated to the PrOpOsItIoN that all men are created equal',\n",
    "    'One nation\\'s freedom equals #freedom for another $nation!'\n",
    "]\n",
    "\n",
    "# Creat the CountVectorizer instance, the stop_words parameter is set to \"english\" to remove common English stop words like \"and\", \"the\", and \"a\"\n",
    "vectorizer = CountVectorizer(stop_words='english')\n",
    "\n",
    "# Convert the text to vectorizer\n",
    "word_matrix = vectorizer.fit_transform(lines)\n",
    "\n",
    "# The get_feature_names_out method is used to get the feature names (i.e., the individual words) in the word matrix\n",
    "feature_names = vectorizer.get_feature_names_out()\n",
    "\n",
    "# The line_names list is created to store the names of each line in the original list of strings\n",
    "line_names = [f'Line {(i + 1):d}' for i, _ in enumerate(word_matrix)]\n",
    "\n",
    "# A Pandas DataFrame is created using the word_matrix.toarray() method to convert the sparse matrix to a dense array\n",
    "df = pd.DataFrame(data=word_matrix.toarray(), index=line_names,columns=feature_names)\n",
    "\n",
    "# The head() method is called on the resulting DataFrame to display the first few rows of the matrix\n",
    "df.head()"
   ]
  },
  {
   "cell_type": "code",
   "execution_count": 2,
   "id": "3fd72645",
   "metadata": {},
   "outputs": [],
   "source": [
    "import re\n",
    "# The preprocess_text function uses the re.sub() method from Python's regular expression library (re) to remove all digits from the text and convert it to lowercase.\n",
    "def preprocess_text(text):\n",
    "    return re.sub(r'\\d+', '', text).lower()\n",
    "\n",
    "# The word matrix is created using the same CountVectorizer instance and the additional preprocessor parameter set to preprocess_text\n",
    "vectorizer = CountVectorizer(stop_words='english', preprocessor=preprocess_text)\n",
    "\n",
    "# Convert the text to vectorizer\n",
    "word_matrix = vectorizer.fit_transform(lines)"
   ]
  },
  {
   "cell_type": "code",
   "execution_count": 3,
   "id": "868ba9ca",
   "metadata": {},
   "outputs": [
    {
     "data": {
      "text/html": [
       "<div>\n",
       "<style scoped>\n",
       "    .dataframe tbody tr th:only-of-type {\n",
       "        vertical-align: middle;\n",
       "    }\n",
       "\n",
       "    .dataframe tbody tr th {\n",
       "        vertical-align: top;\n",
       "    }\n",
       "\n",
       "    .dataframe thead th {\n",
       "        text-align: right;\n",
       "    }\n",
       "</style>\n",
       "<table border=\"1\" class=\"dataframe\">\n",
       "  <thead>\n",
       "    <tr style=\"text-align: right;\">\n",
       "      <th></th>\n",
       "      <th>Text</th>\n",
       "      <th>Sentiment</th>\n",
       "    </tr>\n",
       "  </thead>\n",
       "  <tbody>\n",
       "    <tr>\n",
       "      <th>0</th>\n",
       "      <td>Adayala road is clear</td>\n",
       "      <td>0</td>\n",
       "    </tr>\n",
       "    <tr>\n",
       "      <th>1</th>\n",
       "      <td>Traffic jam from parbat rd to nazim-ud-din rd ...</td>\n",
       "      <td>1</td>\n",
       "    </tr>\n",
       "    <tr>\n",
       "      <th>2</th>\n",
       "      <td>Mandra is clear</td>\n",
       "      <td>0</td>\n",
       "    </tr>\n",
       "    <tr>\n",
       "      <th>3</th>\n",
       "      <td>Fort street is clear</td>\n",
       "      <td>0</td>\n",
       "    </tr>\n",
       "    <tr>\n",
       "      <th>4</th>\n",
       "      <td>Mashriq Hotel towards Fawara Chowk, City Sadda...</td>\n",
       "      <td>1</td>\n",
       "    </tr>\n",
       "  </tbody>\n",
       "</table>\n",
       "</div>"
      ],
      "text/plain": [
       "                                                Text  Sentiment\n",
       "0                              Adayala road is clear          0\n",
       "1  Traffic jam from parbat rd to nazim-ud-din rd ...          1\n",
       "2                                    Mandra is clear          0\n",
       "3                               Fort street is clear          0\n",
       "4  Mashriq Hotel towards Fawara Chowk, City Sadda...          1"
      ]
     },
     "execution_count": 3,
     "metadata": {},
     "output_type": "execute_result"
    }
   ],
   "source": [
    "import pandas as pd\n",
    "import os\n",
    "\n",
    "# Load the data use the pandas\n",
    "df = pd.read_csv(\"Pakistani Traffic sentiment Analysis.csv\")\n",
    "\n",
    "# Display the data\n",
    "df.head()"
   ]
  },
  {
   "cell_type": "code",
   "execution_count": 19,
   "id": "b72147c4",
   "metadata": {},
   "outputs": [],
   "source": [
    "import pandas as pd\n",
    "from sklearn.feature_extraction.text import CountVectorizer\n",
    "from sklearn.feature_extraction.text import TfidfVectorizer\n",
    "from sklearn.feature_extraction.text import HashingVectorizer\n",
    "from sklearn.linear_model import LogisticRegression\n",
    "from sklearn.model_selection import train_test_split\n",
    "%matplotlib inline\n",
    "from sklearn.metrics import ConfusionMatrixDisplay as cmd\n",
    "from sklearn.neighbors import KNeighborsClassifier\n",
    "from sklearn.ensemble import RandomForestClassifier\n",
    "from xgboost import XGBClassifier\n",
    "from sklearn.svm import SVC\n",
    "from sklearn.naive_bayes import BernoulliNB\n",
    "import os\n",
    "from sklearn.model_selection import GridSearchCV\n",
    "from sklearn.metrics import accuracy_score\n"
   ]
  },
  {
   "cell_type": "code",
   "execution_count": 23,
   "id": "a5421b64",
   "metadata": {},
   "outputs": [
    {
     "name": "stdout",
     "output_type": "stream",
     "text": [
      "{'C': 10}\n",
      "The accuracy of the model is: 0.9549763033175356\n",
      "The prediction result of this review is: positive\n"
     ]
    },
    {
     "data": {
      "image/png": "[encoded data removed]",
      "text/plain": [
       "<Figure size 432x288 with 2 Axes>"
      ]
     },
     "metadata": {
      "needs_background": "light"
     },
     "output_type": "display_data"
    }
   ],
   "source": [
    "# (1) CountVectorizer\n",
    "vectorizer = CountVectorizer(ngram_range=(1, 2), stop_words='english',min_df=20)\n",
    "\n",
    "#-*-*-*-*-*-*chose different vectorization-*-*-*-*-*-*\n",
    "x = vectorizer.fit_transform(df['Text'])\n",
    "y = df['Sentiment']\n",
    "x_train, x_test, y_train, y_test = train_test_split(x,y,test_size=0.2,random_state=0)\n",
    "\n",
    "# here you can try use the grid search to find the best model parameter(a example is in SVM model)\n",
    "#-*-*-*-*-*-*-*-*-*-*-*-*-*-*-*-*-*-*\n",
    "#(1)LR\n",
    "model = LogisticRegression(max_iter=1000, random_state=0)\n",
    "param_grid = {\n",
    "    'C': [0.001, 0.01, 0.1, 1, 10, 100],\n",
    "}\n",
    "#`grid_search` performs a grid search with 5-fold cross-validation and evaluates models based on accuracy.\n",
    "grid_search = GridSearchCV(estimator=model, param_grid=param_grid, cv=5, scoring='accuracy')\n",
    "\n",
    "#`fit` method fits the model to the training data, systematically trying out all parameter combinations.\n",
    "grid_search.fit(x_train, y_train)\n",
    "\n",
    "#`best_params` and `best_score` store the best hyperparameters and their corresponding accuracy score.\n",
    "best_params = grid_search.best_params_\n",
    "print(best_params)\n",
    "best_score = grid_search.best_score_\n",
    "\n",
    "#The `model` is updated with the best estimator found during the grid search, which can be used for further analysis.\n",
    "model = grid_search.best_estimator_\n",
    "\n",
    "cmd.from_estimator(model, x_test, y_test,display_labels=['Positive','Negative'],cmap='Blues', xticks_rotation='vertical')\n",
    "#calculate accuracy\n",
    "print('The accuracy of the model is: '+str(accuracy_score(y_test,model.predict(x_test))))\n",
    "\n",
    "# Here you change the reviews\n",
    "text = 'Adayala road is clear'\n",
    "# Make a prediction for this review\n",
    "score=model.predict_proba(vectorizer.transform([text]))[0][1]\n",
    "\n",
    "if score >0.5:\n",
    "  attitude='negative'\n",
    "else:\n",
    "  attitude='positive'\n",
    "\n",
    "print('The prediction result of this review is: '+ attitude)"
   ]
  },
  {
   "cell_type": "code",
   "execution_count": 24,
   "id": "b54954eb",
   "metadata": {},
   "outputs": [
    {
     "name": "stdout",
     "output_type": "stream",
     "text": [
      "{'n_neighbors': 7, 'weights': 'distance'}\n",
      "The accuracy of the model is: 0.9478672985781991\n",
      "The prediction result of this review is: positive\n"
     ]
    },
    {
     "data": {
      "image/png": "[encoded data removed]",
      "text/plain": [
       "<Figure size 432x288 with 2 Axes>"
      ]
     },
     "metadata": {
      "needs_background": "light"
     },
     "output_type": "display_data"
    }
   ],
   "source": [
    "#(2)KNN\n",
    "model=KNeighborsClassifier()\n",
    "\n",
    "param_grid = {\n",
    "    'n_neighbors': [3, 5, 7, 9],\n",
    "    'weights': ['uniform', 'distance']\n",
    "}\n",
    "\n",
    "#`grid_search` performs a grid search with 5-fold cross-validation and evaluates models based on accuracy.\n",
    "grid_search = GridSearchCV(estimator=model, param_grid=param_grid, cv=5, scoring='accuracy')\n",
    "\n",
    "#`fit` method fits the model to the training data, systematically trying out all parameter combinations.\n",
    "grid_search.fit(x_train, y_train)\n",
    "\n",
    "#`best_params` and `best_score` store the best hyperparameters and their corresponding accuracy score.\n",
    "best_params = grid_search.best_params_\n",
    "print(best_params)\n",
    "best_score = grid_search.best_score_\n",
    "\n",
    "#The `model` is updated with the best estimator found during the grid search, which can be used for further analysis.\n",
    "model = grid_search.best_estimator_\n",
    "\n",
    "cmd.from_estimator(model, x_test, y_test,display_labels=['Positive','Negative'],cmap='Blues', xticks_rotation='vertical')\n",
    "#calculate accuracy\n",
    "print('The accuracy of the model is: '+str(accuracy_score(y_test,model.predict(x_test))))\n",
    "\n",
    "# Here you change the reviews\n",
    "text = 'Adayala road is clear'\n",
    "\n",
    "# Make a prediction for this review\n",
    "score=model.predict_proba(vectorizer.transform([text]))[0][1]\n",
    "\n",
    "if score >0.5:\n",
    "  attitude='negative'\n",
    "else:\n",
    "  attitude='positive'\n",
    "\n",
    "print('The prediction result of this review is: '+ attitude)"
   ]
  },
  {
   "cell_type": "code",
   "execution_count": 25,
   "id": "4efaebc6",
   "metadata": {},
   "outputs": [
    {
     "name": "stdout",
     "output_type": "stream",
     "text": [
      "{'max_depth': None, 'min_samples_leaf': 1, 'min_samples_split': 5, 'n_estimators': 100}\n",
      "The accuracy of the model is: 0.9739336492890995\n",
      "The prediction result of this review is: positive\n"
     ]
    },
    {
     "data": {
      "image/png": "[encoded data removed]",
      "text/plain": [
       "<Figure size 432x288 with 2 Axes>"
      ]
     },
     "metadata": {
      "needs_background": "light"
     },
     "output_type": "display_data"
    }
   ],
   "source": [
    "#(3)RF\n",
    "model = RandomForestClassifier(random_state=0)\n",
    "param_grid = {\n",
    "    'n_estimators': [100, 200, 300],\n",
    "    'max_depth': [None, 10, 20, 30],\n",
    "    'min_samples_split': [2, 5, 10],\n",
    "    'min_samples_leaf': [1, 2, 4]\n",
    "}\n",
    "\n",
    "#`grid_search` performs a grid search with 5-fold cross-validation and evaluates models based on accuracy.\n",
    "grid_search = GridSearchCV(estimator=model, param_grid=param_grid, cv=5, scoring='accuracy')\n",
    "\n",
    "#`fit` method fits the model to the training data, systematically trying out all parameter combinations.\n",
    "grid_search.fit(x_train, y_train)\n",
    "\n",
    "#`best_params` and `best_score` store the best hyperparameters and their corresponding accuracy score.\n",
    "best_params = grid_search.best_params_\n",
    "print(best_params)\n",
    "best_score = grid_search.best_score_\n",
    "\n",
    "#The `model` is updated with the best estimator found during the grid search, which can be used for further analysis.\n",
    "model = grid_search.best_estimator_\n",
    "\n",
    "cmd.from_estimator(model, x_test, y_test,display_labels=['Positive','Negative'],cmap='Blues', xticks_rotation='vertical')\n",
    "#calculate accuracy\n",
    "print('The accuracy of the model is: '+str(accuracy_score(y_test,model.predict(x_test))))\n",
    "\n",
    "# Here you change the reviews\n",
    "text = 'Adayala road is clear'\n",
    "\n",
    "# Make a prediction for this review\n",
    "score=model.predict_proba(vectorizer.transform([text]))[0][1]\n",
    "\n",
    "if score >0.5:\n",
    "  attitude='negative'\n",
    "else:\n",
    "  attitude='positive'\n",
    "\n",
    "print('The prediction result of this review is: '+ attitude)"
   ]
  },
  {
   "cell_type": "code",
   "execution_count": 27,
   "id": "c0f1c9da",
   "metadata": {},
   "outputs": [
    {
     "name": "stdout",
     "output_type": "stream",
     "text": [
      "{'learning_rate': 0.2, 'max_depth': 5, 'n_estimators': 200}\n",
      "The accuracy of the model is: 0.9620853080568721\n",
      "The prediction result of this review is: positive\n"
     ]
    },
    {
     "data": {
      "image/png": "[encoded data removed]",
      "text/plain": [
       "<Figure size 432x288 with 2 Axes>"
      ]
     },
     "metadata": {
      "needs_background": "light"
     },
     "output_type": "display_data"
    }
   ],
   "source": [
    "# (4)XGBoost\n",
    "model =  XGBClassifier()\n",
    "param_grid = {\n",
    "    'learning_rate': [0.01, 0.1, 0.2],\n",
    "    'n_estimators': [100, 200, 300],\n",
    "    'max_depth': [3, 4, 5]\n",
    "}\n",
    "\n",
    "#`grid_search` performs a grid search with 5-fold cross-validation and evaluates models based on accuracy.\n",
    "grid_search = GridSearchCV(estimator=model, param_grid=param_grid, cv=5, scoring='accuracy')\n",
    "\n",
    "#`fit` method fits the model to the training data, systematically trying out all parameter combinations.\n",
    "grid_search.fit(x_train, y_train)\n",
    "\n",
    "#`best_params` and `best_score` store the best hyperparameters and their corresponding accuracy score.\n",
    "best_params = grid_search.best_params_\n",
    "print(best_params)\n",
    "best_score = grid_search.best_score_\n",
    "\n",
    "#The `model` is updated with the best estimator found during the grid search, which can be used for further analysis.\n",
    "model = grid_search.best_estimator_\n",
    "\n",
    "cmd.from_estimator(model, x_test, y_test,display_labels=['Positive','Negative'],cmap='Blues', xticks_rotation='vertical')\n",
    "#calculate accuracy\n",
    "print('The accuracy of the model is: '+str(accuracy_score(y_test,model.predict(x_test))))\n",
    "\n",
    "# Make a prediction for this review\n",
    "score=model.predict_proba(vectorizer.transform([text]))[0][1]\n",
    "\n",
    "if score >0.5:\n",
    "  attitude='negative'\n",
    "else:\n",
    "  attitude='positive'\n",
    "\n",
    "print('The prediction result of this review is: '+ attitude)"
   ]
  },
  {
   "cell_type": "code",
   "execution_count": 28,
   "id": "732f168d",
   "metadata": {},
   "outputs": [
    {
     "name": "stdout",
     "output_type": "stream",
     "text": [
      "{'C': 0.1, 'kernel': 'linear'}\n",
      "The accuracy of the model is: 0.9620853080568721\n",
      "The prediction result of this review is: positive\n"
     ]
    },
    {
     "data": {
      "image/png": "[encoded data removed]",
      "text/plain": [
       "<Figure size 432x288 with 2 Axes>"
      ]
     },
     "metadata": {
      "needs_background": "light"
     },
     "output_type": "display_data"
    }
   ],
   "source": [
    "#(5)SVM\n",
    "model= SVC(probability=True)\n",
    "\n",
    "param_grid = {\n",
    "    'kernel': ['linear', 'rbf', 'poly'],\n",
    "    'C': [0.1, 1, 10]}\n",
    "\n",
    "#`grid_search` performs a grid search with 5-fold cross-validation and evaluates models based on accuracy.\n",
    "grid_search = GridSearchCV(estimator=model, param_grid=param_grid, cv=5, scoring='accuracy')\n",
    "\n",
    "#`fit` method fits the model to the training data, systematically trying out all parameter combinations.\n",
    "grid_search.fit(x_train, y_train)\n",
    "\n",
    "#`best_params` and `best_score` store the best hyperparameters and their corresponding accuracy score.\n",
    "best_params = grid_search.best_params_\n",
    "print(best_params)\n",
    "best_score = grid_search.best_score_\n",
    "\n",
    "#The `model` is updated with the best estimator found during the grid search, which can be used for further analysis.\n",
    "model = grid_search.best_estimator_\n",
    "\n",
    "cmd.from_estimator(model, x_test, y_test,display_labels=['Positive','Negative'],cmap='Blues', xticks_rotation='vertical')\n",
    "#calculate accuracy\n",
    "print('The accuracy of the model is: '+str(accuracy_score(y_test,model.predict(x_test))))\n",
    "\n",
    "# Make a prediction for this review\n",
    "score=model.predict_proba(vectorizer.transform([text]))[0][1]\n",
    "\n",
    "if score >0.5:\n",
    "  attitude='negative'\n",
    "else:\n",
    "  attitude='positive'\n",
    "\n",
    "print('The prediction result of this review is: '+ attitude)"
   ]
  },
  {
   "cell_type": "code",
   "execution_count": 29,
   "id": "55df7484",
   "metadata": {},
   "outputs": [
    {
     "name": "stdout",
     "output_type": "stream",
     "text": [
      "{'alpha': 0.5, 'force_alpha': True}\n",
      "The accuracy of the model is: 0.957345971563981\n",
      "The prediction result of this review is: positive\n"
     ]
    },
    {
     "data": {
      "image/png": "[encoded data removed]",
      "text/plain": [
       "<Figure size 432x288 with 2 Axes>"
      ]
     },
     "metadata": {
      "needs_background": "light"
     },
     "output_type": "display_data"
    }
   ],
   "source": [
    "#(6)Naïve Bayes models\n",
    "model=BernoulliNB()\n",
    "param_grid = {\n",
    "    'alpha': [0.1, 0.5, 1],\n",
    "    'force_alpha': [True,False]}\n",
    "\n",
    "#`grid_search` performs a grid search with 5-fold cross-validation and evaluates models based on accuracy.\n",
    "grid_search = GridSearchCV(estimator=model, param_grid=param_grid, cv=5, scoring='accuracy')\n",
    "\n",
    "#`fit` method fits the model to the training data, systematically trying out all parameter combinations.\n",
    "grid_search.fit(x_train, y_train)\n",
    "\n",
    "#`best_params` and `best_score` store the best hyperparameters and their corresponding accuracy score.\n",
    "best_params = grid_search.best_params_\n",
    "print(best_params)\n",
    "best_score = grid_search.best_score_\n",
    "\n",
    "#The `model` is updated with the best estimator found during the grid search, which can be used for further analysis.\n",
    "model = grid_search.best_estimator_\n",
    "\n",
    "cmd.from_estimator(model, x_test, y_test,display_labels=['Positive','Negative'],cmap='Blues', xticks_rotation='vertical')\n",
    "#calculate accuracy\n",
    "print('The accuracy of the model is: '+str(accuracy_score(y_test,model.predict(x_test))))\n",
    "\n",
    "# Make a prediction for this review\n",
    "score=model.predict_proba(vectorizer.transform([text]))[0][1]\n",
    "\n",
    "if score >0.5:\n",
    "  attitude='negative'\n",
    "else:\n",
    "  attitude='positive'\n",
    "\n",
    "print('The prediction result of this review is: '+ attitude)"
   ]
  },
  {
   "cell_type": "code",
   "execution_count": null,
   "id": "8ab9594a",
   "metadata": {},
   "outputs": [],
   "source": []
  }
 ],
 "metadata": {
  "kernelspec": {
   "display_name": "Python 3 (ipykernel)",
   "language": "python",
   "name": "python3"
  },
  "language_info": {
   "codemirror_mode": {
    "name": "ipython",
    "version": 3
   },
   "file_extension": ".py",
   "mimetype": "text/x-python",
   "name": "python",
   "nbconvert_exporter": "python",
   "pygments_lexer": "ipython3",
   "version": "3.9.12"
  }
 },
 "nbformat": 4,
 "nbformat_minor": 5
}
